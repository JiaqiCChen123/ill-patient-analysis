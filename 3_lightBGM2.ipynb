{
 "cells": [
  {
   "cell_type": "code",
   "execution_count": 1,
   "metadata": {},
   "outputs": [],
   "source": [
    "%matplotlib inline\n",
    "import numpy as np \n",
    "import pandas as pd\n",
    "import seaborn as sns\n",
    "import matplotlib.pyplot as plt\n",
    "import xgboost as xgb\n",
    "from sklearn.cluster import MiniBatchKMeans,KMeans,SpectralClustering\n",
    "from sklearn.ensemble import RandomForestRegressor\n",
    "from sklearn.model_selection import KFold\n",
    "from sklearn.ensemble import GradientBoostingRegressor\n",
    "from sklearn.metrics import r2_score"
   ]
  },
  {
   "cell_type": "code",
   "execution_count": 2,
   "metadata": {},
   "outputs": [],
   "source": [
    "train = pd.read_csv('train_encode2.csv')\n",
    "test = pd.read_csv('test_encode2.csv')"
   ]
  },
  {
   "cell_type": "code",
   "execution_count": 145,
   "metadata": {},
   "outputs": [
    {
     "data": {
      "text/plain": [
       "(array([190., 141., 113., 108., 101., 107., 104., 100., 105.,  85.,  89.,\n",
       "         75.,  61.,  57.,  50.,  55.,  46.,  37.,  36.,  43.,  24.,  26.,\n",
       "         19.,  27.,  19.,  25.,  25.,  21.,  16.,  15.,  17.,  13.,  12.,\n",
       "         13.,   9.,   9.,  17.,  11.,   7.,   6.,   9.,   9.,   9.,   9.,\n",
       "          6.,   6.,  14.,   8.,   7.,   6.,   1.,   9.,   7.,   7.,   4.,\n",
       "          2.,   7.,   8.,   2.,   3.,   2.,   7.,   4.,   6.,   8.,   7.,\n",
       "          0.,   3.,   6.,   1.,   2.,   2.,   2.,   4.,   2.,   3.,   2.,\n",
       "          3.,   2.,   0.,   0.,   3.,   3.,   0.,   2.,   1.,   0.,   3.,\n",
       "          2.,   1.,   1.,   1.,   1.,   4.,   1.,   3.,   1.,   2.,   1.,\n",
       "          1.,   0.,   2.,   1.,   0.,   2.,   2.,   1.,   1.,   1.,   1.,\n",
       "          3.,   1.,   1.,   0.,   1.,   0.,   2.,   1.,   0.,   0.,   1.,\n",
       "          0.,   0.,   0.,   2.,   1.,   0.,   0.,   1.,   1.,   1.,   0.,\n",
       "          1.,   0.,   0.,   0.,   1.,   2.,   1.,   0.,   1.,   1.,   0.,\n",
       "          1.,   0.,   0.,   1.,   1.,   0.,   1.,   0.,   0.,   1.,   0.,\n",
       "          0.,   0.,   0.,   1.,   0.,   0.,   0.,   1.,   1.,   1.,   1.,\n",
       "          1.,   0.,   1.,   0.,   0.,   0.,   0.,   0.,   0.,   0.,   1.,\n",
       "          0.,   1.,   0.,   0.,   0.,   0.,   0.,   3.,   0.,   0.,   0.,\n",
       "          1.,   0.,   0.,   0.,   0.,   1.,   1.,   0.,   2.,   0.,   0.,\n",
       "          0.,   1.]),\n",
       " array([  1.   ,   1.985,   2.97 ,   3.955,   4.94 ,   5.925,   6.91 ,\n",
       "          7.895,   8.88 ,   9.865,  10.85 ,  11.835,  12.82 ,  13.805,\n",
       "         14.79 ,  15.775,  16.76 ,  17.745,  18.73 ,  19.715,  20.7  ,\n",
       "         21.685,  22.67 ,  23.655,  24.64 ,  25.625,  26.61 ,  27.595,\n",
       "         28.58 ,  29.565,  30.55 ,  31.535,  32.52 ,  33.505,  34.49 ,\n",
       "         35.475,  36.46 ,  37.445,  38.43 ,  39.415,  40.4  ,  41.385,\n",
       "         42.37 ,  43.355,  44.34 ,  45.325,  46.31 ,  47.295,  48.28 ,\n",
       "         49.265,  50.25 ,  51.235,  52.22 ,  53.205,  54.19 ,  55.175,\n",
       "         56.16 ,  57.145,  58.13 ,  59.115,  60.1  ,  61.085,  62.07 ,\n",
       "         63.055,  64.04 ,  65.025,  66.01 ,  66.995,  67.98 ,  68.965,\n",
       "         69.95 ,  70.935,  71.92 ,  72.905,  73.89 ,  74.875,  75.86 ,\n",
       "         76.845,  77.83 ,  78.815,  79.8  ,  80.785,  81.77 ,  82.755,\n",
       "         83.74 ,  84.725,  85.71 ,  86.695,  87.68 ,  88.665,  89.65 ,\n",
       "         90.635,  91.62 ,  92.605,  93.59 ,  94.575,  95.56 ,  96.545,\n",
       "         97.53 ,  98.515,  99.5  , 100.485, 101.47 , 102.455, 103.44 ,\n",
       "        104.425, 105.41 , 106.395, 107.38 , 108.365, 109.35 , 110.335,\n",
       "        111.32 , 112.305, 113.29 , 114.275, 115.26 , 116.245, 117.23 ,\n",
       "        118.215, 119.2  , 120.185, 121.17 , 122.155, 123.14 , 124.125,\n",
       "        125.11 , 126.095, 127.08 , 128.065, 129.05 , 130.035, 131.02 ,\n",
       "        132.005, 132.99 , 133.975, 134.96 , 135.945, 136.93 , 137.915,\n",
       "        138.9  , 139.885, 140.87 , 141.855, 142.84 , 143.825, 144.81 ,\n",
       "        145.795, 146.78 , 147.765, 148.75 , 149.735, 150.72 , 151.705,\n",
       "        152.69 , 153.675, 154.66 , 155.645, 156.63 , 157.615, 158.6  ,\n",
       "        159.585, 160.57 , 161.555, 162.54 , 163.525, 164.51 , 165.495,\n",
       "        166.48 , 167.465, 168.45 , 169.435, 170.42 , 171.405, 172.39 ,\n",
       "        173.375, 174.36 , 175.345, 176.33 , 177.315, 178.3  , 179.285,\n",
       "        180.27 , 181.255, 182.24 , 183.225, 184.21 , 185.195, 186.18 ,\n",
       "        187.165, 188.15 , 189.135, 190.12 , 191.105, 192.09 , 193.075,\n",
       "        194.06 , 195.045, 196.03 , 197.015, 198.   ]),\n",
       " <a list of 200 Patch objects>)"
      ]
     },
     "execution_count": 145,
     "metadata": {},
     "output_type": "execute_result"
    },
    {
     "data": {
      "image/png": "[encoded data removed]",
      "text/plain": [
       "<Figure size 432x288 with 1 Axes>"
      ]
     },
     "metadata": {
      "needs_background": "light"
     },
     "output_type": "display_data"
    }
   ],
   "source": [
    "plt.hist(train.groupby('patient_id').count()['key'], bins=200)"
   ]
  },
  {
   "cell_type": "code",
   "execution_count": 55,
   "metadata": {},
   "outputs": [
    {
     "data": {
      "text/plain": [
       "224"
      ]
     },
     "execution_count": 55,
     "metadata": {},
     "output_type": "execute_result"
    }
   ],
   "source": [
    "len(train.columns.unique())"
   ]
  },
  {
   "cell_type": "code",
   "execution_count": 4,
   "metadata": {},
   "outputs": [
    {
     "data": {
      "text/plain": [
       "217"
      ]
     },
     "execution_count": 4,
     "metadata": {},
     "output_type": "execute_result"
    }
   ],
   "source": [
    "len(test.columns)"
   ]
  },
  {
   "cell_type": "code",
   "execution_count": 5,
   "metadata": {},
   "outputs": [
    {
     "data": {
      "text/plain": [
       "224"
      ]
     },
     "execution_count": 5,
     "metadata": {},
     "output_type": "execute_result"
    }
   ],
   "source": [
    "len(train.columns)"
   ]
  },
  {
   "cell_type": "code",
   "execution_count": 30,
   "metadata": {},
   "outputs": [
    {
     "data": {
      "text/plain": [
       "{'key_label',\n",
       " 'log_y_mean_HR',\n",
       " 'log_y_mean_MAP',\n",
       " 'sqrt_y_mean_HR',\n",
       " 'sqrt_y_mean_MAP',\n",
       " 'y_mean_HR',\n",
       " 'y_mean_MAP'}"
      ]
     },
     "execution_count": 30,
     "metadata": {},
     "output_type": "execute_result"
    }
   ],
   "source": [
    "set(train.columns)-set(train.columns[np.isin(train.columns, test.columns)])"
   ]
  },
  {
   "cell_type": "code",
   "execution_count": 152,
   "metadata": {},
   "outputs": [],
   "source": [
    "from sklearn.model_selection import train_test_split\n",
    "X_train, X_test, y_train, y_test = train_test_split(train.drop(columns = ['log_y_mean_HR','key_label', \n",
    "                                                                          'log_y_mean_MAP','sqrt_y_mean_HR',\n",
    "                                                                        'sqrt_y_mean_MAP', 'y_mean_HR','y_mean_MAP']), \n",
    "                                                    train[['y_mean_MAP', 'y_mean_HR','log_y_mean_HR', \n",
    "                                                            'sqrt_y_mean_HR','sqrt_y_mean_MAP','log_y_mean_MAP']],\n",
    "                                                    test_size=0.25, random_state=42)"
   ]
  },
  {
   "cell_type": "markdown",
   "metadata": {},
   "source": [
    "#### predict y_mean_MAP"
   ]
  },
  {
   "cell_type": "code",
   "execution_count": 81,
   "metadata": {},
   "outputs": [],
   "source": [
    "X_train.drop(columns = ['xx4_series_cluster_mean_enc_y_mean_MAP',\n",
    "       'xx3_series_cluster_mean_enc_y_mean_MAP', 'xx3|3', 'xx2',\n",
    "       'xx2_max', 'xx3|2', 'xx4|10', 'xx3|4', 'xx4|8', 'xx3|14', 'xx4|6',\n",
    "       'xx3|18', 'xx3|20', 'xx2|1', 'xx3|24', 'xx3|7', 'x2', 'xx1|1',\n",
    "       'xx2|28', 'xx3|5', 'xx1|30', 'xx2|29', 'xx3|6', 'xx3|11', 'xx2|27',\n",
    "       'xx2|18', 'xx3|12', 'xx2|19', 'xx2|7', 'xx2|5', 'xx2|20', 'xx1|29',\n",
    "       'xx2|25', 'xx2|24', 'xx2|4', 'xx2|14', 'xx2|8', 'xx2|6', 'xx2|21',\n",
    "       'xx1|3', 'xx1|28', 'xx2|2', 'xx2|3', 'xx1|4',\n",
    "       'xx4_cluster_mean_enc_y_mean_MAP', 'xx1|27', 'xx1|22', 'xx1|23',\n",
    "       'xx1|24', 'xx2|10', 'xx2|15', 'xx2|23', 'xx2|16', 'xx2|26',\n",
    "       'xx2|17', 'xx2|22', 'xx2_series_cluster', 'xx1|6', 'xx2|11',\n",
    "       'xx1|5', 'xx1|19', 'xx2|9', 'xx1|26', 'xx1|20', 'xx1|25', 'x6',\n",
    "       'xx1|10', 'xx1|2', 'xx2|12', 'xx1|17', 'xx1|12', 'xx1|13', 'xx1|9',\n",
    "       'xx1|21', 'xx1|11', 'xx1|16', 'xx2|13', 'xx1|8', 'xx1|7', 'xx1|14',\n",
    "       'xx1|18', 'xx3_cluster_mean_enc_y_mean_MAP', 'xx1|15', 'xx3',\n",
    "       'gender', 'xx1_series_cluster_mean_enc_y_mean_HR', 'x4', 'xx1',\n",
    "       'xx1_cluster_mean_enc_y_mean_HR', 'x5', 'key'], inplace=True)\n",
    "X_test.drop(columns = ['xx4_series_cluster_mean_enc_y_mean_MAP',\n",
    "       'xx3_series_cluster_mean_enc_y_mean_MAP', 'xx3|3', 'xx2',\n",
    "       'xx2_max', 'xx3|2', 'xx4|10', 'xx3|4', 'xx4|8', 'xx3|14', 'xx4|6',\n",
    "       'xx3|18', 'xx3|20', 'xx2|1', 'xx3|24', 'xx3|7', 'x2', 'xx1|1',\n",
    "       'xx2|28', 'xx3|5', 'xx1|30', 'xx2|29', 'xx3|6', 'xx3|11', 'xx2|27',\n",
    "       'xx2|18', 'xx3|12', 'xx2|19', 'xx2|7', 'xx2|5', 'xx2|20', 'xx1|29',\n",
    "       'xx2|25', 'xx2|24', 'xx2|4', 'xx2|14', 'xx2|8', 'xx2|6', 'xx2|21',\n",
    "       'xx1|3', 'xx1|28', 'xx2|2', 'xx2|3', 'xx1|4',\n",
    "       'xx4_cluster_mean_enc_y_mean_MAP', 'xx1|27', 'xx1|22', 'xx1|23',\n",
    "       'xx1|24', 'xx2|10', 'xx2|15', 'xx2|23', 'xx2|16', 'xx2|26',\n",
    "       'xx2|17', 'xx2|22', 'xx2_series_cluster', 'xx1|6', 'xx2|11',\n",
    "       'xx1|5', 'xx1|19', 'xx2|9', 'xx1|26', 'xx1|20', 'xx1|25', 'x6',\n",
    "       'xx1|10', 'xx1|2', 'xx2|12', 'xx1|17', 'xx1|12', 'xx1|13', 'xx1|9',\n",
    "       'xx1|21', 'xx1|11', 'xx1|16', 'xx2|13', 'xx1|8', 'xx1|7', 'xx1|14',\n",
    "       'xx1|18', 'xx3_cluster_mean_enc_y_mean_MAP', 'xx1|15', 'xx3',\n",
    "       'gender', 'xx1_series_cluster_mean_enc_y_mean_HR', 'x4', 'xx1',\n",
    "       'xx1_cluster_mean_enc_y_mean_HR', 'x5', 'key'], inplace=True)"
   ]
  },
  {
   "cell_type": "code",
   "execution_count": 148,
   "metadata": {},
   "outputs": [],
   "source": [
    "X_train.drop(columns = ['xx1|22', 'xx1|23',\n",
    "       'xx1|24', 'xx2|10', 'xx2|15', 'xx2|23', 'xx2|16', 'xx2|26',\n",
    "       'xx2|17', 'xx2|22', 'xx2_series_cluster', 'xx1|6', 'xx2|11',\n",
    "       'xx1|5', 'xx1|19', 'xx2|9', 'xx1|26', 'xx1|20', 'xx1|25', 'x6',\n",
    "       'xx1|10', 'xx1|2', 'xx2|12', 'xx1|17', 'xx1|12', 'xx1|13', 'xx1|9',\n",
    "       'xx1|21', 'xx1|11', 'xx1|16', 'xx2|13', 'xx1|8', 'xx1|7', 'xx1|14',\n",
    "       'xx1|18', 'xx3_cluster_mean_enc_y_mean_MAP', 'xx1|15', 'xx3',\n",
    "       'gender', 'xx1_series_cluster_mean_enc_y_mean_HR', 'x4', 'xx1',\n",
    "       'xx1_cluster_mean_enc_y_mean_HR', 'x5', 'key'], inplace=True)\n",
    "X_test.drop(columns = ['xx1|22', 'xx1|23',\n",
    "       'xx1|24', 'xx2|10', 'xx2|15', 'xx2|23', 'xx2|16', 'xx2|26',\n",
    "       'xx2|17', 'xx2|22', 'xx2_series_cluster', 'xx1|6', 'xx2|11',\n",
    "       'xx1|5', 'xx1|19', 'xx2|9', 'xx1|26', 'xx1|20', 'xx1|25', 'x6',\n",
    "       'xx1|10', 'xx1|2', 'xx2|12', 'xx1|17', 'xx1|12', 'xx1|13', 'xx1|9',\n",
    "       'xx1|21', 'xx1|11', 'xx1|16', 'xx2|13', 'xx1|8', 'xx1|7', 'xx1|14',\n",
    "       'xx1|18', 'xx3_cluster_mean_enc_y_mean_MAP', 'xx1|15', 'xx3',\n",
    "       'gender', 'xx1_series_cluster_mean_enc_y_mean_HR', 'x4', 'xx1',\n",
    "       'xx1_cluster_mean_enc_y_mean_HR', 'x5', 'key'], inplace=True)"
   ]
  },
  {
   "cell_type": "code",
   "execution_count": 156,
   "metadata": {},
   "outputs": [],
   "source": [
    "X_train.drop(columns = ['key'], inplace=True)\n",
    "X_test.drop(columns = ['key'], inplace=True)"
   ]
  },
  {
   "cell_type": "code",
   "execution_count": 128,
   "metadata": {},
   "outputs": [],
   "source": [
    "import lightgbm as lgb"
   ]
  },
  {
   "cell_type": "code",
   "execution_count": 133,
   "metadata": {
    "scrolled": true
   },
   "outputs": [
    {
     "name": "stderr",
     "output_type": "stream",
     "text": [
      "/anaconda3/lib/python3.7/site-packages/lightgbm/engine.py:148: UserWarning: Found `num_iterations` in params. Will use it instead of argument\n",
      "  warnings.warn(\"Found `{}` in params. Will use it instead of argument\".format(alias))\n",
      "/anaconda3/lib/python3.7/site-packages/lightgbm/basic.py:1291: UserWarning: Using categorical_feature in Dataset.\n",
      "  warnings.warn('Using categorical_feature in Dataset.')\n"
     ]
    },
    {
     "name": "stdout",
     "output_type": "stream",
     "text": [
      "0.9255985321664346\n",
      "0.8879782270568988\n"
     ]
    }
   ],
   "source": [
    "train_data = lgb.Dataset(X_train, label = y_train['y_mean_MAP'], \n",
    "                         categorical_feature=['x3'])\n",
    "model = lgb.train(params = {'metric': 'MSE', 'num_iterations':150, \n",
    "                            'learning_rate':0.08,\n",
    "                           'boosting':'gbdt'} ,train_set = train_data)\n",
    "print(r2_score(model.predict(X_train), y_train[['y_mean_MAP']]))\n",
    "print(r2_score(model.predict(X_test), y_test[['y_mean_MAP']]))"
   ]
  },
  {
   "cell_type": "code",
   "execution_count": 134,
   "metadata": {},
   "outputs": [
    {
     "data": {
      "text/plain": [
       "0.8881285728241718"
      ]
     },
     "execution_count": 134,
     "metadata": {},
     "output_type": "execute_result"
    }
   ],
   "source": [
    "0.9285451309116477\n",
    "0.8881285728241718"
   ]
  },
  {
   "cell_type": "code",
   "execution_count": 96,
   "metadata": {
    "scrolled": true
   },
   "outputs": [],
   "source": [
    "# plt.scatter(range(len(y_train.y_mean_MAP)), sorted(y_train.y_mean_MAP))"
   ]
  },
  {
   "cell_type": "code",
   "execution_count": 95,
   "metadata": {},
   "outputs": [],
   "source": [
    "# plt.hist(y_train.y_mean_MAP, bins=200)"
   ]
  },
  {
   "cell_type": "code",
   "execution_count": 153,
   "metadata": {},
   "outputs": [],
   "source": [
    "from sklearn.ensemble import GradientBoostingRegressor\n",
    "from sklearn.metrics import r2_score"
   ]
  },
  {
   "cell_type": "code",
   "execution_count": 157,
   "metadata": {},
   "outputs": [],
   "source": [
    "rf_MAP = RandomForestRegressor(n_estimators=100, max_depth=20, min_samples_split=40, min_samples_leaf=20)"
   ]
  },
  {
   "cell_type": "code",
   "execution_count": 158,
   "metadata": {},
   "outputs": [
    {
     "data": {
      "text/plain": [
       "0.8994939198544686"
      ]
     },
     "execution_count": 158,
     "metadata": {},
     "output_type": "execute_result"
    }
   ],
   "source": [
    "rf_MAP.fit(X_train, y_train['y_mean_MAP'])\n",
    "y_train_MAP_pred = rf_MAP.predict(X_train)\n",
    "r2_score(y_train['y_mean_MAP'], y_train_MAP_pred)\n",
    "y_val_MAP_pred = rf_MAP.predict(X_test)\n",
    "r2_score(y_test['y_mean_MAP'], y_val_MAP_pred)"
   ]
  },
  {
   "cell_type": "code",
   "execution_count": 159,
   "metadata": {},
   "outputs": [
    {
     "name": "stdout",
     "output_type": "stream",
     "text": [
      "0.928908137583798\n",
      "0.8994939198544686\n"
     ]
    }
   ],
   "source": [
    "print(r2_score(y_train['y_mean_MAP'], y_train_MAP_pred))\n",
    "print(r2_score(y_test['y_mean_MAP'], y_val_MAP_pred))"
   ]
  },
  {
   "cell_type": "code",
   "execution_count": null,
   "metadata": {},
   "outputs": [],
   "source": []
  }
 ],
 "metadata": {
  "kernelspec": {
   "display_name": "Python 3",
   "language": "python",
   "name": "python3"
  },
  "language_info": {
   "codemirror_mode": {
    "name": "ipython",
    "version": 3
   },
   "file_extension": ".py",
   "mimetype": "text/x-python",
   "name": "python",
   "nbconvert_exporter": "python",
   "pygments_lexer": "ipython3",
   "version": "3.7.3"
  }
 },
 "nbformat": 4,
 "nbformat_minor": 2
}
